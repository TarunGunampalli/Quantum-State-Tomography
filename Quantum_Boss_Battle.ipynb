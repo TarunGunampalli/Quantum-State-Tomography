{
  "nbformat": 4,
  "nbformat_minor": 0,
  "metadata": {
    "colab": {
      "name": "Quantum Boss Battle",
      "provenance": [],
      "collapsed_sections": [],
      "include_colab_link": true
    },
    "kernelspec": {
      "name": "python3",
      "display_name": "Python 3"
    },
    "language_info": {
      "name": "python"
    }
  },
  "cells": [
    {
      "cell_type": "markdown",
      "metadata": {
        "id": "view-in-github",
        "colab_type": "text"
      },
      "source": [
        "<a href=\"https://colab.research.google.com/github/TarunGunampalli/Quantum-State-Tomography/blob/master/Quantum_Boss_Battle.ipynb\" target=\"_parent\"><img src=\"https://colab.research.google.com/assets/colab-badge.svg\" alt=\"Open In Colab\"/></a>"
      ]
    },
    {
      "cell_type": "code",
      "metadata": {
        "colab": {
          "base_uri": "https://localhost:8080/"
        },
        "id": "H8C8Mw-6JKl4",
        "outputId": "6f80a06d-f8d4-499d-8754-1876bb734ca5"
      },
      "source": [
        "%pip install qiskit --quiet\n",
        "%pip install tabulate\n",
        "%pip install pylatexenc --quiet\n",
        "import qiskit\n",
        "from qiskit import QuantumCircuit, QuantumRegister, ClassicalRegister, Aer, execute\n",
        "from qiskit.quantum_info import Statevector\n",
        "import numpy as np\n",
        "from qiskit.visualization import plot_histogram, plot_state_qsphere, plot_bloch_multivector, plot_bloch_vector\n",
        "from ipywidgets import interact, interactive, fixed, interact_manual, Button, Layout"
      ],
      "execution_count": null,
      "outputs": [
        {
          "output_type": "stream",
          "name": "stdout",
          "text": [
            "\u001b[K     |████████████████████████████████| 6.1 MB 4.3 MB/s \n",
            "\u001b[K     |████████████████████████████████| 17.9 MB 87 kB/s \n",
            "\u001b[K     |████████████████████████████████| 235 kB 54.6 MB/s \n",
            "\u001b[K     |████████████████████████████████| 207 kB 71.8 MB/s \n",
            "\u001b[K     |████████████████████████████████| 2.1 MB 59.0 MB/s \n",
            "\u001b[K     |████████████████████████████████| 207 kB 57.0 MB/s \n",
            "\u001b[K     |████████████████████████████████| 634 kB 48.2 MB/s \n",
            "\u001b[K     |████████████████████████████████| 1.4 MB 54.8 MB/s \n",
            "\u001b[K     |████████████████████████████████| 52 kB 1.4 MB/s \n",
            "\u001b[K     |████████████████████████████████| 38.2 MB 20 kB/s \n",
            "\u001b[K     |████████████████████████████████| 943 kB 52.9 MB/s \n",
            "\u001b[K     |████████████████████████████████| 49 kB 6.0 MB/s \n",
            "\u001b[K     |████████████████████████████████| 3.5 MB 51.9 MB/s \n",
            "\u001b[K     |████████████████████████████████| 6.3 MB 15.1 MB/s \n",
            "\u001b[?25h  Building wheel for qiskit (setup.py) ... \u001b[?25l\u001b[?25hdone\n",
            "  Building wheel for dlx (setup.py) ... \u001b[?25l\u001b[?25hdone\n",
            "  Building wheel for docplex (setup.py) ... \u001b[?25l\u001b[?25hdone\n",
            "  Building wheel for python-constraint (setup.py) ... \u001b[?25l\u001b[?25hdone\n",
            "  Building wheel for yfinance (setup.py) ... \u001b[?25l\u001b[?25hdone\n",
            "Requirement already satisfied: tabulate in /usr/local/lib/python3.7/dist-packages (0.8.9)\n",
            "\u001b[K     |████████████████████████████████| 162 kB 5.0 MB/s \n",
            "\u001b[?25h  Building wheel for pylatexenc (setup.py) ... \u001b[?25l\u001b[?25hdone\n"
          ]
        }
      ]
    },
    {
      "cell_type": "code",
      "metadata": {
        "id": "hhqwpXerJZM-"
      },
      "source": [
        "#ask for difficulty\n",
        "#create n qubit entanglement with random gates(say up to 10-15 gates) for your boss (Limit maybe 3qubit entanglement for now, add as we keep coding)\n",
        "    #Initizialize Circuit qc=QuantumCircuit(n)\n",
        "      #Apply bell state entanglemnts/GHZ states for 3 qubit\n",
        "#for loop asking for input each time\n",
        "#choices are given gates depending on the difficulty chose\n",
        "  #H, X, CNOT, SWAP, Cu, measure\n",
        "#in order to defeat the boss, you want to measure 000, getting anything with 1's are defeats, but vary with \"punishments\"(i.e. 001 has a better ending than 011)\n",
        "#create ascii art for our bossses and gates that represent attacks if time permits.\n",
        "#additional things to add: maybe a store and every boss you defeat gives you currency as reward--store has cosmetics or other unlocks\n",
        "\n",
        "#Entanglement: our n qubit state is entangled and using control gates you can see the effect of one qubit affecting another?\n",
        "  #Id want to implement entanglement swapping or teleportation but it seems like it'll be hard for this kind of concept. Do we really teach our audience how entanglememnt works?\n",
        "  #If two states are entangled and one of them is selected to attack that turn, the entangled states also deal damage\n",
        "#Superposition: our boss is in a superpositoin\n",
        "#Inteference: The whole objective is to intefere to cancel the superposition we are in\n",
        "\n"
      ],
      "execution_count": null,
      "outputs": []
    },
    {
      "cell_type": "markdown",
      "metadata": {
        "id": "q8W08TsE0tKi"
      },
      "source": [
        ""
      ]
    },
    {
      "cell_type": "code",
      "metadata": {
        "id": "66tZ6uDJx3Wg"
      },
      "source": [
        "n = 3\n",
        "\n",
        "# ask user for n qubits\n",
        "#create array\n",
        "\n",
        "#while(promt != measure):"
      ],
      "execution_count": null,
      "outputs": []
    },
    {
      "cell_type": "markdown",
      "metadata": {
        "id": "RQX9stFBJY8S"
      },
      "source": [
        ""
      ]
    }
  ]
}